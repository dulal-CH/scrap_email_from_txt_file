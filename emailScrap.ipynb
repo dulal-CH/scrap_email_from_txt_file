{
 "cells": [
  {
   "cell_type": "code",
   "execution_count": 1,
   "id": "74aacb0f",
   "metadata": {},
   "outputs": [],
   "source": [
    "# Python program to extract emails From text\n",
    "# the String By Regular Expression. \n",
    "      \n",
    "# Importing module required for regular \n",
    "# expressions \n",
    "import re  \n",
    "   \n",
    "data =  open(\"websiteData.txt\",'r',encoding = 'utf-8')\n",
    "contents = data.read()"
   ]
  },
  {
   "cell_type": "code",
   "execution_count": 2,
   "id": "b79d0eb2",
   "metadata": {},
   "outputs": [
    {
     "data": {
      "text/plain": [
       "'0 notifications total\\n\\nSkip to search\\n\\nSkip to main content\\n\\nClose jump menu\\nSearch\\nPrimary Navigation\\nHome\\nMy Network\\nJobs@linkedin.com \\nMessaging\\n13\\n13 new notifications\\nNotifications\\nRabindra Kharel\\nMe\\n\\nWork\\nAdvertise\\nPhoto of Rabindra Kharel\\nRabindra Kharel\\nSenior Data Engineer\\n\\nWho viewed your profile\\n238\\nViews of your post\\n567\\nAccess exclusive tools & insights\\nRetry Premium Free\\n My items\\n\\nFort Services logo\\nFort Services\\nPage notifications\\n5\\nPage visitors\\n1\\nSee visitor analytics\\nRecent\\n\\nCX Network: Customer Experience, Service, Insight, Digital and Marketing Leaders\\nData Analytics - Big Data • BI • SQL • Power BI • Tableau • RPA • Python • ML • AI • Azure • DevOps\\nOracle Retail Q&A\\nOracle Retail Analytics Professional\\nUse it or Lose it: Data Science Best Practices to Leverage AI/ML\\nGroupsSee all Groups\\n\\nCX Network: Customer Experience, Service, Insight, Digital and Marketing Leaders\\nData Analytics - Big Data • BI • SQL • Power BI • Tableau • RPA • Python • ML • AI • Azure • DevOps\\nOracle Retail Q&AShow more Show more Groups\\nEventsSee all Events Contact: gregor@mxanalytics.com \\n\\n\\nHavard Business School - Startup Demo DaySee allSee all Events\\nFollowed HashtagsSee all Followed Hashtags\\nDiscover more\\nVisit profile for Rabindra Kharel\\n\\nStart a post\\n\\nPhoto\\n\\nVideo\\nEvent\\n\\nWrite article\\n\\nSort by:\\nTop\\nFeed Updates\\nFeed post number 1\\nkshitij’s profile photo\\nkshitij khanal commented on this\\n\\nAnup NepalStatus is reachable\\nAnup Nepal\\n• 1st\\nDigital Transformation\\n7h • 7 hours ago\\nI’m happy to share that I’m starting a new position as Retail Optimization Lead at Tango Energy!\\n\\nStarting a New Position\\nlikecelebrate\\n27\\nShreya Basnyat and 26 others\\n8 comments\\n\\nLike\\n\\nComment\\n\\nShare\\n\\nSend\\nRabindra Kharel\\n\\n\\n\\nOpen Emoji Keyboard\\n\\nCurrent selected sort order is Most relevant\\nMost relevant\\nsusan.daniels@moo.com \\n 1st degree connection1st\\nSoftware Engineer\\n2h\\nCongrats bro!\\n\\n\\nLike\\n\\nReply\\n\\nLoad more comments\\nFeed post number 2\\nNithesh Suvarna follows Hevo Data\\n\\nHevo Data\\nHevo Data\\n33,425 followers\\nPromoted\\nThere is an easier way to perform Redshift ETL.\\n\\nFind out how you can save time on engineering and research to set-up Redshift ETL with our cheatsheet.\\n…see more\\n\\nFree guide to Redshift ETL\\nhevodata.com\\n\\nDownload. View Sponsored Content\\nDownload\\nlike\\n40\\n\\nLike\\n\\nComment\\n\\nShare\\n\\nSend\\n\\nBe the first to comment on this\\n\\nFeed post number 3\\nProfile images for several LinkedIn members\\nProfile images for several LinkedIn membersProfile images for several LinkedIn members\\nRajan Upadhyay and Subin Shrestha like this\\n\\nGunjan ShakyaStatus is reachable\\nGunjan Shakya\\n• 1st\\nSoftware Engineer\\n2d • 2 days ago\\nJust finished the course “Communicating with Confidence” by Jeff Ansell! Check it out: https://lnkd.in/ejtCuJMK #publicspeaking #wellness.\\n\\nCertificate of Completion\\nlinkedin.com • 1 min read\\nlike\\n10\\nRajan Upadhyay and 9 others\\n\\nLike\\n\\nComment\\n\\nShare\\n\\nSend\\n\\nBe the first to comment on this\\n\\nFeed post number 1\\nAayush AdhikariStatus is online\\nAayush Adhikari\\n• 1st\\nMachine Learning Data Scientist at DeepMind Creations Pvt Ltd\\n8h • Edited • 8 hours ago\\n\\nHello all our company is opening for PAID INTERNSHIP on Flutter. If you are interested plz send your CV at aayush@deepminds.xyz\\n\\n#flutter\\n#flutterdeveloper\\n#ml\\n#ai\\n…see more\\nlikesupport\\n12\\n1 comment\\n\\nLike\\n\\nComment\\n\\nShare\\n\\nSend\\nFeed post number 2\\nJobs recommended for you\\n\\nView job: Senior Data Engineer\\n\\nRecruiting from Scratch\\nSenior Data Engineer\\nRecruiting from Scratch\\nVancouver, British Columbia, Canada\\n\\n1 month ago\\nView job: Senior Data Engineer - Scala/AWS\\n\\nJobot\\nSenior Data Engineer - Scala/AWS\\nJobot\\nVancouver, British Columbia, Canada\\n\\n1 week ago •  Easy Apply\\nView job: Senior Big Data Engineer\\n\\nEmonics LLC\\nSenior Big Data Engineer\\nEmonics LLC\\nVancouver, British Columbia, Canada\\nsend email to hr@vancuemonics.com \\n\\n3 days ago •  Easy Apply\\n\\nSee moreSee more\\nFeed post number 3\\nSantosh’s profile photo\\nSantosh Pandey likes this\\n\\nJagrit Gambhir\\nJagrit Gambhir\\n• 3rd+\\n☀️ Solving for Future of Work | People Engagement\\n3d • 3 days ago\\nFollow\\nHypocrisy 101\\n\\n\"How soon can you join? We need somebody who can join within a week.\"\\n\\n\"You\\'ll need to serve 3 months of notice period, we can\\'t do anything about it.\"\\n\\nIf the employee is so important to you that you need 3 months to replace them, you should\\'ve treated them well in the first place - and they probably wouldn\\'t have left.\\n\\nA smooth exit process is underrated.\\n\\nDo it well, and the employee might consider returning in the future.\\n\\nMake it complicated, and the employee will ensure that none of their friends/acquaintances ends up joining your company ever again. 🙃\\n\\nCurious, how was your exit process in your previous org?\\n\\n#noticeperiod #offboarding #employeeexperience\\n…see more\\n\\nNo alternative text description for this imageActivate to view larger image\\nlikecelebratesupport agent syneca.gregory@gmail.com \\n1,420\\nSantosh Pandey and 1,419 others\\n87 comments\\n\\nLike\\n\\nComment\\n\\nShare\\n\\nSend\\nFeed post number 4\\nChandan Gupta Bhagat, Amit Raj Sapkota and 136 other connections follow The British College, Kathmandu\\n\\nThe British College, Kathmandu\\nThe British College, Kathmandu\\n4,662 followers\\nPromoted\\nTBC is proud to announce the second series of the TBC Distinguished Guest Lecture Series with Prof Tim Gocher & Dr Sujit Pandey. The topic of the session: \"Innovation, Development & Covid 19: Post Pandemic Context for Nepal.\"\\nRSVP: https://bit.ly/33jYiV1\\n…see more\\nNo alternative text description for this image\\nTBC Distinguished Guest Lecture Series II\\nApply Now. View Sponsored Content\\nApply Now\\nNo alternative text description for this image\\nTBC Distinguished Guest Lecture Series II\\nApply Now. View Sponsored Content\\nApply Now\\nNo alternative text description for this image\\nTBC Distinguished Guest Lecture Series II\\nApply Now. View Sponsored Content\\nApply Now\\n\\nlike\\n25\\n\\nLike\\n\\nComment\\n\\nShare\\n\\nSend\\n\\nBe the first to comment on this\\n\\nFeed post number 5\\nCongratulate Sunil Rijal on their work anniversary\\n\\nSunil Rijal\\nSunil Rijal\\n• 1st\\nCEO and Founder at SoftNEP\\n1d1 day ago\\nCelebrating 17 years at SoftNEP Pvt Ltd\\ncelebratelike\\n2\\n\\nCongrats Sunil\\n\\nTime flies!\\n\\nKudos to you\\n\\nWow!\\n\\nWhat an achievement!\\n\\nGreat work!\\n\\nWow, 17 years already?\\n\\nScroll right\\n\\nLike\\n\\nComment\\nRabindra Kharel\\n\\n\\n\\nOpen Emoji Keyboard\\n\\nFeed post number 6\\nLekhanath’s profile photo\\nLekhanath Bhandari commented on this\\n\\nConnie Burke\\nConnie Burke\\n• 3rd+\\nDirector, Eurest\\n3d • 3 days ago\\nI am looking to fill the following jobs:\\nSous Chef\\nGrill Cook\\nPrep Cook\\n\\nMonday-Friday\\nHanover Maryland\\nPM me for details\\n…see more\\nlikelove\\n166\\n132 comments\\n\\nLike\\n\\nComment\\n\\nShare\\n\\nSend\\nRabindra Kharel\\n\\n\\n\\nOpen Emoji Keyboard\\n\\nCurrent selected sort order is Most relevant\\nMost relevant\\nSee profile for Lekhanath BhandariStatus is reachable\\nLekhanath Bhandari\\n 1st degree connection1st\\nsous chef at fazlani nature nest\\n1d\\nInterested for sous chef\\n\\n\\nLike\\n\\nReply\\n\\nLoad more comments\\nFeed post number 7\\nBibek’s profile photo\\nBibek Mahatara likes this\\n\\nAnthony J JamesStatus is reachable\\nAnthony J James\\n• 2nd\\nCEO, Innovation and Growth at Trinity Consulting - Founder, InfluencerActive, the World\\'s First B2B Influencer Marketplace\\n12h • 12 hours ago\\nFollow\\nTurn your plants into pets!\\n\\nPlay\\nBack to start of video\\nSkip back 10 seconds\\nSkip ahead 10 seconds\\nCurrent time 0:00/Duration 0:45\\n \\n1x\\n\\nPlayback speed\\n\\nUnmute\\n\\nTurn fullscreen on\\nlikeloveinsightful\\n9,044\\nBibek Mahatara and 9,043 others\\n257 comments\\n\\nLike\\n\\nComment\\n\\nShare\\n\\nSend\\nFeed post number 1\\nLarange’s profile photo\\nLarange Tiwari likes this\\n\\nEric Vyacheslav\\nEric Vyacheslav\\n• 2nd\\nResearch Scientist at Google DeepMind • Advisor at AlphaSignal.ai\\n1d • Edited • 1 day ago\\nFollow\\nHi all!\\nWe\\'re currently looking for a part time (4 hours/week) Computer Science PhD or Masters student to help us at https://alphasignal.ai\\n\\nA few criteria:\\n-Must be between timezones GMT+5 (India) to GMT+9 (Japan).\\n-Published at least one research paper in Machine Learning.\\n-Has some familiarity with Pytorch, Tensorflow.\\n-Knows the difference between RNN, CNN, LSTM, GANs.\\n-Familiarity with Deep Learning terms.\\n-Knows about Meta AI, Deepmind, Google AI, OpenAI and other big players.\\n\\nThat\\'s it!\\nIf you know a student who fits the role send it my way :)\\n\\nIt\\'s definitely a resume-booster.\\n…see more\\nlikesupportcurious\\n432\\nLarange Tiwari and 431 others\\n102 comments\\n\\nLike\\n\\nComment\\n\\nShare\\n\\nSend\\nFeed post number 2\\nReena koju and Santosh Bhattarai follow Spot by NetApp\\n\\nSpot by NetApp\\nSpot by NetApp\\n11,440 followers\\nPromoted\\nDownload our free digital guide to Microsoft Azure. Learn best practices for architecting and managing efficient, scalable cloud infrastructure built to accelerate your business\\n…see more\\n\\nGetting Started with Azure Cloud Infrastructure – Get the PDF Guide\\nget.spot.io\\n\\nDownload. View Sponsored Content\\nDownload\\nlike\\n30\\n\\nLike\\n\\nComment\\n\\nShare\\n\\nSend\\n\\nBe the first to comment on this\\n\\nFeed post number 3\\nEverest’s profile photo\\nEverest K.C. likes this\\n\\nSantosh Yadav\\nSantosh Yadav\\n• 2nd\\nSystem Administrator\\n6h • Edited • 6 hours ago\\nBikash Bhandari Sir is an extremely experienced DevOps engineer. He has an intelligent teaching method, Start teaching from the very basics to taking to a stage where you build real-world solutions and debug challenges. The designed labs were great and worked as expected without a hitch. Thanks, owlocular to give me this certificate.\\n…see more\\nYour document has finished loading\\nlikecelebratelove\\n6\\nEverest K.C. and 5 others\\n1 comment\\n\\nLike\\n\\nComment\\n\\nShare\\n\\nSend\\nFeed post number 4\\nLalit’s profile photo\\nLalit Sharma commented on this\\n\\nJavedul Islam\\nJavedul Islam\\n• 3rd+\\nCommissioning Manager - Process | Commissioning Expert | Troubleshooting Expert for O&M|\\n20h • 20 hours ago\\nRiyadh AldhaleaiStatus is reachable\\nRiyadh Aldhaleai\\n• 3rd+\\nManager -Manpower Services at AlMansoori Specialized Engineering\\n3d • 3 days ago\\nFollow\\nsmall test for your focus\\nwhats is the Number inside the circle?\\n\\nImage previewActivate to view larger image\\nlike\\n4\\n18 comments\\n\\nLike\\n\\nComment\\n\\nShare\\n\\nSend\\nRabindra Kharel\\n\\n\\n\\nOpen Emoji Keyboard\\n\\nCurrent selected sort order is Most relevant\\nMost relevant\\nSee profile for Lalit SharmaStatus is reachable\\nLalit Sharma\\n 1st degree connection1st\\nTeam Leader cum Senior Highway Engineer\\n1h\\n45283\\n\\n\\nLike\\n\\nReply\\n\\nLoad more comments\\nFeed post number 5\\nSammeer’s profile photo\\nSammeer Gaikwad loves this\\n\\nMehrtash Soltani, Ph.D\\nMehrtash Soltani, Ph.D\\n• 2nd\\nSocial Media Marketing|Please click FOLLOW button for the latest development in Civil Engineering || 230K+ Followers ||\\n23h • 23 hours ago\\nFollow\\n What Causes Breakdowns in Traffic Flow?\\n\\nThe layman\\'s definition of congestion is \"too many cars trying to use a highway at the same time\". Transportation engineers formalize this idea as capacity—the ability to move vehicles past a point over a given span of time. When the capacity of a highway section is exceeded, traffic flow breaks down, speeds drop, and vehicles crowd together. These actions cause traffic to back up behind the disruption.\\n\\nBasically, there are three types of traffic flow behavior that will cause traffic flow to break down:\\n\\n1- \"Bunching\" of vehicles as a result of reduced speed.\\n2- Intended Interruption to Traffic Flow.\\n3- Vehicle Merging Maneuvers. \\n\\nWith all this information, I believe this dog got the concept and found the solution better than me as a Highway engineer ;)\\n\\nIf you found the content informative, you may Follow me by Mehrtash Soltani, Ph.D  for more!\\n\\nVideo Credit: IG @ earthdixe\\n.......................................................................\\nAll rights and credits are reserved to the respective owner(s). If you are the main copyright owner rather than the one mentioned here of this content, contact me to claim credit or content removal.\\n\\nCheck out #mehrtashsoltani for educational and practical content in civil engineering!\\n…see more\\n\\nPause\\nBack to start of video\\nSkip back 10 seconds\\nSkip ahead 10 seconds\\nCurrent time 0:04/Duration 0:18\\n \\n1x\\n\\nPlayback speed\\n\\nUnmute\\n\\nTurn fullscreen on\\nlikelovecelebrate\\n3,781\\nSammeer Gaikwad and 3,780 others\\n178 comments\\n\\nLike\\n\\nComment\\n\\nShare\\n\\nSend\\nFeed post number 6\\nSupermetrics\\nSupermetrics\\n13,205 followers\\nPromoted\\n\\nSupermetrics has been listed on G2 as the highest rated marketing data pipeline company of 2022.\\n\\nOver 17,000 companies already use Supermetrics to streamline marketing reports.\\n\\nJoin our happy customers and start your free trial today!\\n…see more\\n\\nStart your free trial today\\nsupermetrics.comRegister. View Sponsored Content\\nRegister\\nlikelove\\n61\\n1 comment\\n\\nLike\\n\\nComment\\n\\nShare\\n\\nSend\\nFeed post number 7\\nSamundra’s profile photo\\nSamundra Shrestha loves this\\n\\nDaniel Abrahams\\nDaniel Abrahams\\n• 2nd\\nHere to write. If it goes viral, it\\'s not because of me. It\\'s because it\\'s true.\\n3d • 3 days ago\\nFollow\\n\\nNo alternative text description for this imageActivate to view larger image\\nlikelovecelebrate\\n68,665\\nKhem Raj Pokhrel and 68,664 others\\n1,154 comments\\n\\nLike\\n\\nComment\\n\\nShare\\n\\nSend\\n\\nShow more results\\nAdd to your feed\\n\\nNational Association of REALTORS®;realtors@bbn.com \\nNational Association of REALTORS®\\nCompany • Real Estate\\n\\nFollow\\nSuze Orman\\nSuze Orman\\nBestselling Author | Host of the Women & Money Podcast | Co-Founder of SecureSave\\n\\nFollow\\nNational Association of Home Builders\\nNational Association of Home Builders\\nCompany • Construction\\n\\nFollow\\nView all recommendations \\n\\nAbout\\nAccessibility\\nHelp Center\\n\\nPrivacy & Terms \\nAd Choices\\nAdvertising\\n\\nBusiness Services \\nGet the LinkedIn app\\nMore\\n LinkedIn Corporation © 2022 info@content.linkedin.com \\nRabindra KharelStatus is online\\nMessagingYou are on the messaging overlay. Press enter to open the list of conversations.\\n\\n\\nCompose message\\n\\nYou are on the messaging overlay. Press enter to open the list of conversations.\\n'"
      ]
     },
     "execution_count": 2,
     "metadata": {},
     "output_type": "execute_result"
    }
   ],
   "source": [
    "contents"
   ]
  },
  {
   "cell_type": "code",
   "execution_count": 3,
   "id": "2e39773a",
   "metadata": {},
   "outputs": [],
   "source": [
    "#\\S matches any non-whitespace character \n",
    "#@ for as in the Email \n",
    "#+ for Repeats a character one or more times \n",
    "email = re.findall('[^,;\\s]+@[^,;\\s]+', contents)     "
   ]
  },
  {
   "cell_type": "code",
   "execution_count": 4,
   "id": "0d80251b",
   "metadata": {},
   "outputs": [
    {
     "name": "stdout",
     "output_type": "stream",
     "text": [
      "['Jobs@linkedin.com', 'gregor@mxanalytics.com', 'susan.daniels@moo.com', 'aayush@deepminds.xyz', 'hr@vancuemonics.com', 'syneca.gregory@gmail.com', 'realtors@bbn.com', 'info@content.linkedin.com']\n"
     ]
    }
   ],
   "source": [
    "# Printing of List \n",
    "print(email)"
   ]
  },
  {
   "cell_type": "code",
   "execution_count": 5,
   "id": "26668248",
   "metadata": {},
   "outputs": [
    {
     "data": {
      "text/plain": [
       "['Jobs@linkedin.com',\n",
       " 'gregor@mxanalytics.com',\n",
       " 'susan.daniels@moo.com',\n",
       " 'aayush@deepminds.xyz',\n",
       " 'hr@vancuemonics.com',\n",
       " 'syneca.gregory@gmail.com',\n",
       " 'realtors@bbn.com',\n",
       " 'info@content.linkedin.com']"
      ]
     },
     "execution_count": 5,
     "metadata": {},
     "output_type": "execute_result"
    }
   ],
   "source": [
    "email"
   ]
  },
  {
   "cell_type": "code",
   "execution_count": 6,
   "id": "65f05145",
   "metadata": {},
   "outputs": [
    {
     "data": {
      "text/plain": [
       "{'susan.daniels@moo.com': 1,\n",
       " 'Jobs@linkedin.com': 1,\n",
       " 'realtors@bbn.com': 1,\n",
       " 'syneca.gregory@gmail.com': 1,\n",
       " 'gregor@mxanalytics.com': 1,\n",
       " 'info@content.linkedin.com': 1,\n",
       " 'aayush@deepminds.xyz': 1,\n",
       " 'hr@vancuemonics.com': 1}"
      ]
     },
     "execution_count": 6,
     "metadata": {},
     "output_type": "execute_result"
    }
   ],
   "source": [
    "dict((x,email.count(x)) for x in set(email))"
   ]
  },
  {
   "cell_type": "code",
   "execution_count": null,
   "id": "0bf6278c",
   "metadata": {},
   "outputs": [],
   "source": []
  }
 ],
 "metadata": {
  "kernelspec": {
   "display_name": "Python 3 (ipykernel)",
   "language": "python",
   "name": "python3"
  },
  "language_info": {
   "codemirror_mode": {
    "name": "ipython",
    "version": 3
   },
   "file_extension": ".py",
   "mimetype": "text/x-python",
   "name": "python",
   "nbconvert_exporter": "python",
   "pygments_lexer": "ipython3",
   "version": "3.9.7"
  }
 },
 "nbformat": 4,
 "nbformat_minor": 5
}
