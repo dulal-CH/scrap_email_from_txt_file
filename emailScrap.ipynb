{
 "cells": [
  {
   "cell_type": "code",
   "execution_count": null,
   "id": "74aacb0f",
   "metadata": {},
   "outputs": [],
   "source": [
    "# Python program to extract emails From text\n",
    "# the String By Regular Expression. \n",
    "      \n",
    "# Importing module required for regular \n",
    "# expressions \n",
    "import re  \n",
    "   \n",
    "data =  open(\"websiteData.txt\",'r',encoding = 'utf-8')\n",
    "contents = data.read()"
   ]
  },
  {
   "cell_type": "code",
   "execution_count": null,
   "id": "b79d0eb2",
   "metadata": {},
   "outputs": [],
   "source": [
    "contents"
   ]
  },
  {
   "cell_type": "code",
   "execution_count": null,
   "id": "2e39773a",
   "metadata": {},
   "outputs": [],
   "source": [
    "#\\S matches any non-whitespace character \n",
    "#@ for as in the Email \n",
    "#+ for Repeats a character one or more times \n",
    "email = re.findall('[^,;\\s]+@[^,;\\s]+', contents)     "
   ]
  },
  {
   "cell_type": "code",
   "execution_count": null,
   "id": "0d80251b",
   "metadata": {},
   "outputs": [],
   "source": [
    "# Printing of List \n",
    "print(email)"
   ]
  },
  {
   "cell_type": "code",
   "execution_count": null,
   "id": "26668248",
   "metadata": {},
   "outputs": [],
   "source": [
    "email_list = email"
   ]
  },
  {
   "cell_type": "code",
   "execution_count": null,
   "id": "e4b3560f",
   "metadata": {},
   "outputs": [],
   "source": [
    "email_list"
   ]
  },
  {
   "cell_type": "code",
   "execution_count": null,
   "id": "65f05145",
   "metadata": {},
   "outputs": [],
   "source": [
    "dict((x,email_list.count(x)) for x in set(email_list))"
   ]
  },
  {
   "cell_type": "code",
   "execution_count": null,
   "id": "d2f75c79",
   "metadata": {},
   "outputs": [],
   "source": [
    "from collections import Counter\n"
   ]
  },
  {
   "cell_type": "code",
   "execution_count": null,
   "id": "3080a718",
   "metadata": {},
   "outputs": [],
   "source": [
    "human_email = []\n",
    "nhuman_email = []\n",
    "for ele in email_list\n",
    "    if ele == "
   ]
  }
 ],
 "metadata": {
  "kernelspec": {
   "display_name": "Python 3 (ipykernel)",
   "language": "python",
   "name": "python3"
  },
  "language_info": {
   "codemirror_mode": {
    "name": "ipython",
    "version": 3
   },
   "file_extension": ".py",
   "mimetype": "text/x-python",
   "name": "python",
   "nbconvert_exporter": "python",
   "pygments_lexer": "ipython3",
   "version": "3.9.7"
  }
 },
 "nbformat": 4,
 "nbformat_minor": 5
}
